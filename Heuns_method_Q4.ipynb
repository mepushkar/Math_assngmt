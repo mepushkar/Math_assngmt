{
 "cells": [
  {
   "cell_type": "code",
   "execution_count": 24,
   "id": "a44e94ce",
   "metadata": {},
   "outputs": [],
   "source": [
    "import pandas as pd\n",
    "import numpy as np\n",
    "import scipy.integrate "
   ]
  },
  {
   "cell_type": "markdown",
   "id": "a6a6cf7d",
   "metadata": {},
   "source": [
    "<font color='Red'>Adding the differential equation f(x,y)</font>\n",
    "\n"
   ]
  },
  {
   "cell_type": "code",
   "execution_count": 2,
   "id": "b0e087e3",
   "metadata": {},
   "outputs": [],
   "source": [
    "def dydx(x,y):\n",
    "    return (1+y/x)"
   ]
  },
  {
   "cell_type": "markdown",
   "id": "1fd9b9b2",
   "metadata": {},
   "source": [
    "<font color='Red'>Function calculating the exact solution of the given ODE</font>"
   ]
  },
  {
   "cell_type": "code",
   "execution_count": 3,
   "id": "091d6c4e",
   "metadata": {},
   "outputs": [],
   "source": [
    "def y_exact(x):\n",
    "    return(x*(1+np.log(x)))"
   ]
  },
  {
   "cell_type": "markdown",
   "id": "a269ff99",
   "metadata": {},
   "source": [
    "<font color='Red'>FUNCTION FOR IMPLEMENTING 2nd Order RK</font>\n",
    "\n",
    "\n"
   ]
  },
  {
   "cell_type": "code",
   "execution_count": 14,
   "id": "992c4c63",
   "metadata": {},
   "outputs": [],
   "source": [
    "def RK2(x0,y0,x,h):\n",
    "    y_sol=[y0]\n",
    "    n=round((x-x0)/h)\n",
    "    y=y0\n",
    "    for i in range (1,n+1):\n",
    "        k1=h*dydx(x0,y)    #k1*h is accounded here itself\n",
    "        k2=h*dydx(x0+h,y+k1)\n",
    "        y=y+((k1+k2)/2)\n",
    "        y_sol.append(y)\n",
    "        x0=x0+h\n",
    "    return y       #returning only y_num(6).......... returing y_sol will give at each x_i\n",
    "        "
   ]
  },
  {
   "cell_type": "markdown",
   "id": "54316d0c",
   "metadata": {},
   "source": [
    "<font color='Red'>CODE BLOCK FOR EXECUTION OF ABOVE DEFINED FUNCTIONS</font>\n",
    "\n"
   ]
  },
  {
   "cell_type": "code",
   "execution_count": 19,
   "id": "1ece72ab",
   "metadata": {},
   "outputs": [
    {
     "name": "stdout",
     "output_type": "stream",
     "text": [
      "      Step_h     y_num6         Error  e_2h/e_h\n",
      "0   1.000000  16.174167  5.763901e-01  3.092839\n",
      "1   0.500000  16.564194  1.863628e-01    3.4984\n",
      "2   0.250000  16.697286  5.327087e-02  3.742494\n",
      "3   0.125000  16.736323  1.423406e-02  3.871007\n",
      "4   0.062500  16.746880  3.677094e-03  3.935675\n",
      "5   0.031250  16.749623  9.342982e-04  3.967911\n",
      "6   0.015625  16.750321  2.354635e-04  3.983978\n",
      "7   0.007812  16.750498  5.910261e-05  3.991995\n",
      "8   0.003906  16.750542  1.480528e-05  3.995999\n",
      "9   0.001953  16.750553  3.705026e-06     3.998\n",
      "10  0.000977  16.750556  9.267199e-07        --\n"
     ]
    }
   ],
   "source": [
    "x0,y0,xf=1,1,6\n",
    "y_num6_diff_h=list()\n",
    "y_ex6=y_exact(6)\n",
    "err6=[]\n",
    "h_l=[1,0.5,0.25,0.125,0.0625,0.03125,0.015625,0.0078125,(1/256),(1/512),(1/1024)]\n",
    "for h in h_l:\n",
    "    y_num6=RK2(x0,y0,xf,h)\n",
    "    y_num6_diff_h.append(y_num6)\n",
    "    err6.append(abs(y_num6-y_ex6))\n",
    "dic={'Step_h':h_l,'y_num6':y_num6_diff_h,'Error':err6}\n",
    "df1=pd.DataFrame(dic)\n",
    "er1=[]\n",
    "for i in range(len(df1.Error)):\n",
    "    try:\n",
    "        er1.append(df1.Error[i]/df1.Error[i+1])\n",
    "        \n",
    "    except:\n",
    "        break\n",
    "           \n",
    "er1.append('--')\n",
    "df1['e_2h/e_h']=er1\n",
    "df1.to_csv('Heuns.csv')\n",
    "print(df1)\n"
   ]
  },
  {
   "cell_type": "code",
   "execution_count": 34,
   "id": "b4803b65",
   "metadata": {},
   "outputs": [
    {
     "data": {
      "text/plain": [
       "16.750030612672532"
      ]
     },
     "execution_count": 34,
     "metadata": {},
     "output_type": "execute_result"
    }
   ],
   "source": [
    "# RK 4th order by scipy.integrate.solve_ivp\n",
    "sol=scipy.integrate.solve_ivp(dydx,(1,6),[1],method='RK45')\n",
    "sol.y[-1,-1] #y_num6"
   ]
  }
 ],
 "metadata": {
  "kernelspec": {
   "display_name": "Python 3 (ipykernel)",
   "language": "python",
   "name": "python3"
  },
  "language_info": {
   "codemirror_mode": {
    "name": "ipython",
    "version": 3
   },
   "file_extension": ".py",
   "mimetype": "text/x-python",
   "name": "python",
   "nbconvert_exporter": "python",
   "pygments_lexer": "ipython3",
   "version": "3.9.12"
  }
 },
 "nbformat": 4,
 "nbformat_minor": 5
}
