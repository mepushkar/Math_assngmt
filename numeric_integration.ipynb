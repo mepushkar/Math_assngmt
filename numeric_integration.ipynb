{
 "cells": [
  {
   "cell_type": "code",
   "execution_count": 1,
   "id": "9a90462e",
   "metadata": {},
   "outputs": [],
   "source": [
    "import numpy as np\n",
    "import pandas as pd"
   ]
  },
  {
   "cell_type": "code",
   "execution_count": 2,
   "id": "13569ad1",
   "metadata": {},
   "outputs": [],
   "source": [
    "def fun(a):\n",
    "    return(np.sin(a))"
   ]
  },
  {
   "cell_type": "code",
   "execution_count": 3,
   "id": "59a97cae",
   "metadata": {},
   "outputs": [],
   "source": [
    "def trapezoidal(n,a,b,f):\n",
    "    Th=0\n",
    "    Th+=f(a)+f(b)\n",
    "    h=(b-a)/n\n",
    "    for i in range (1,n):\n",
    "        Th+=2*f(a+i*h)\n",
    "    Th=Th*h*0.5\n",
    "    return Th"
   ]
  },
  {
   "cell_type": "code",
   "execution_count": 4,
   "id": "cf4b2005",
   "metadata": {},
   "outputs": [],
   "source": [
    "def simpsons(n,a,b,f):\n",
    "    Th=0\n",
    "    Th+=f(a)+f(b)\n",
    "    h=(b-a)/n\n",
    "    for i in range (1,n):\n",
    "        if i%2==0:\n",
    "            Th+=2*f(a+i*h)\n",
    "        else:\n",
    "            Th+=4*f(a+i*h)\n",
    "        \n",
    "    Th=Th*h/3\n",
    "    return Th,h"
   ]
  },
  {
   "cell_type": "code",
   "execution_count": 12,
   "id": "83d65fa8",
   "metadata": {},
   "outputs": [],
   "source": [
    "n_s=[1,2,4,8,16,32,64,128]\n",
    "er_trap=[]\n",
    "er_simp=[]\n",
    "I_simp_list=[]\n",
    "I_trap_list=[]\n",
    "h_list=[]\n",
    "exact=2\n",
    "for n in n_s:\n",
    "    I_simp,h=simpsons(n,0,np.pi,fun)\n",
    "    I_simp_list.append(I_simp)\n",
    "    h_list.append(h)\n",
    "    I_trap=trapezoidal(n,0,np.pi,fun)\n",
    "    I_trap_list.append(I_trap)\n",
    "    err_trap=abs(exact-I_trap)\n",
    "    er_trap.append(err_trap)\n",
    "    err_simp=abs(exact-I_simp)\n",
    "    er_simp.append(err_simp)\n",
    "\n",
    "    \n",
    "    \n",
    "\n",
    "\n",
    "err_ratio_s_list=[0]\n",
    "err_ratio_t_list=[0]\n",
    "for i in range (0,len(er_simp)-1):\n",
    "    e2h_s=er_simp[i];\n",
    "    eh_s=er_simp[i+1];\n",
    "    err_ratio_s=abs(e2h_s/eh_s);\n",
    "    err_ratio_s_list.append(err_ratio_s)\n",
    "    e2h_t=er_trap[i];\n",
    "    eh_t=er_trap[i+1];\n",
    "    err_ratio_t=abs(e2h_t/eh_t);\n",
    "    err_ratio_t_list.append(err_ratio_t)\n",
    "    \n",
    "    \n",
    "dic={'n_value':n_s, 'Trapezoidal':I_trap_list, 'Trapezoidal_error':er_trap,'error_ratio_t':err_ratio_t_list\n",
    "     ,'Simpsons':I_simp_list, 'Simpsons_error':er_simp,'error_ratio_s':err_ratio_s_list }\n",
    "df1=pd.DataFrame(dic)\n",
    "df1=df1.round(6)\n",
    "df1.to_csv('Numerical_integration_.csv',index=False)\n"
   ]
  }
 ],
 "metadata": {
  "kernelspec": {
   "display_name": "Python 3 (ipykernel)",
   "language": "python",
   "name": "python3"
  },
  "language_info": {
   "codemirror_mode": {
    "name": "ipython",
    "version": 3
   },
   "file_extension": ".py",
   "mimetype": "text/x-python",
   "name": "python",
   "nbconvert_exporter": "python",
   "pygments_lexer": "ipython3",
   "version": "3.9.12"
  }
 },
 "nbformat": 4,
 "nbformat_minor": 5
}
