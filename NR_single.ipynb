{
 "cells": [
  {
   "cell_type": "code",
   "execution_count": 1,
   "metadata": {
    "scrolled": true
   },
   "outputs": [],
   "source": [
    "import numpy as np\n",
    "import pandas as pd\n",
    "import matplotlib.pyplot as plt"
   ]
  },
  {
   "cell_type": "code",
   "execution_count": 2,
   "metadata": {},
   "outputs": [
    {
     "name": "stdout",
     "output_type": "stream",
     "text": [
      "exact roots are [-1.73205081 -1.          1.73205081]\n"
     ]
    }
   ],
   "source": [
    "f=np.polynomial.Polynomial([-3, -3, 1,1])\n",
    "f_dash=np.polynomial.Polynomial([-3, +2, 3])\n",
    "roots=np.polynomial.polynomial.Polynomial.roots(f)\n",
    "print(\"exact roots are\",roots)"
   ]
  },
  {
   "cell_type": "code",
   "execution_count": 7,
   "metadata": {},
   "outputs": [
    {
     "data": {
      "text/html": [
       "<div>\n",
       "<style scoped>\n",
       "    .dataframe tbody tr th:only-of-type {\n",
       "        vertical-align: middle;\n",
       "    }\n",
       "\n",
       "    .dataframe tbody tr th {\n",
       "        vertical-align: top;\n",
       "    }\n",
       "\n",
       "    .dataframe thead th {\n",
       "        text-align: right;\n",
       "    }\n",
       "</style>\n",
       "<table border=\"1\" class=\"dataframe\">\n",
       "  <thead>\n",
       "    <tr style=\"text-align: right;\">\n",
       "      <th></th>\n",
       "      <th>iteration</th>\n",
       "      <th>absolute_error</th>\n",
       "      <th>error_ratio_1</th>\n",
       "      <th>error_ratio_2</th>\n",
       "      <th>error_ratio_3</th>\n",
       "    </tr>\n",
       "  </thead>\n",
       "  <tbody>\n",
       "    <tr>\n",
       "      <th>0</th>\n",
       "      <td>1</td>\n",
       "      <td>3.717996e-02</td>\n",
       "      <td>0.000000e+00</td>\n",
       "      <td>0.000000</td>\n",
       "      <td>0.000000e+00</td>\n",
       "    </tr>\n",
       "    <tr>\n",
       "      <th>1</th>\n",
       "      <td>2</td>\n",
       "      <td>8.730030e-04</td>\n",
       "      <td>2.348047e-02</td>\n",
       "      <td>0.631536</td>\n",
       "      <td>1.698591e+01</td>\n",
       "    </tr>\n",
       "    <tr>\n",
       "      <th>2</th>\n",
       "      <td>3</td>\n",
       "      <td>4.990000e-07</td>\n",
       "      <td>5.710640e-04</td>\n",
       "      <td>0.654137</td>\n",
       "      <td>7.492955e+02</td>\n",
       "    </tr>\n",
       "    <tr>\n",
       "      <th>3</th>\n",
       "      <td>4</td>\n",
       "      <td>0.000000e+00</td>\n",
       "      <td>3.260000e-07</td>\n",
       "      <td>0.654853</td>\n",
       "      <td>1.313542e+06</td>\n",
       "    </tr>\n",
       "  </tbody>\n",
       "</table>\n",
       "</div>"
      ],
      "text/plain": [
       "   iteration  absolute_error  error_ratio_1  error_ratio_2  error_ratio_3\n",
       "0          1    3.717996e-02   0.000000e+00       0.000000   0.000000e+00\n",
       "1          2    8.730030e-04   2.348047e-02       0.631536   1.698591e+01\n",
       "2          3    4.990000e-07   5.710640e-04       0.654137   7.492955e+02\n",
       "3          4    0.000000e+00   3.260000e-07       0.654853   1.313542e+06"
      ]
     },
     "execution_count": 7,
     "metadata": {},
     "output_type": "execute_result"
    }
   ],
   "source": [
    "# 1A\n",
    "\n",
    "epsilon=1e-10\n",
    "p0=2\n",
    "x_n1=0;\n",
    "x_n=p0\n",
    "x_at_iter=[];err_iter=[]\n",
    "max_iter=1000\n",
    "n=[];x_exact=np.sqrt(3);\n",
    "er_rat1=[0];er_rat2=[0];er_rat3=[0];\n",
    "for i in range (1, max_iter):\n",
    "    if (f_dash(x_n)==0):\n",
    "              break\n",
    "    else:\n",
    "        x_n1=x_n-(f(x_n)/f_dash(x_n))\n",
    "        \n",
    "    if (abs(x_n1-x_n)<=epsilon):             #checkpoint\n",
    "            break\n",
    "    else:\n",
    "        x_n=x_n1\n",
    "        x_at_iter.append(x_n)\n",
    "        err_iter.append(abs(x_exact-x_n))\n",
    "        n.append(i)\n",
    "for i in range (1,len(err_iter)):\n",
    "    er_rat1.append(err_iter[i]/err_iter[i-1])\n",
    "    er_rat2.append(err_iter[i]/(err_iter[i-1]**2))\n",
    "    er_rat3.append(err_iter[i]/err_iter[i-1]**3)\n",
    "dict1={'iteration':n,'absolute_error':err_iter,'error_ratio_1':er_rat1,'error_ratio_2':er_rat2,\n",
    "       'error_ratio_3':er_rat3}\n",
    "df2=pd.DataFrame(dict1)\n",
    "df2=df2.round(9)\n",
    "# df2.to_csv('NR_1_1.csv')\n",
    "df2"
   ]
  },
  {
   "cell_type": "code",
   "execution_count": 8,
   "metadata": {},
   "outputs": [
    {
     "data": {
      "text/plain": [
       "<matplotlib.legend.Legend at 0x7fba4a0afeb0>"
      ]
     },
     "execution_count": 8,
     "metadata": {},
     "output_type": "execute_result"
    },
    {
     "data": {
      "image/png": "[encoded data removed]",
      "text/plain": [
       "<Figure size 432x288 with 1 Axes>"
      ]
     },
     "metadata": {
      "needs_background": "light"
     },
     "output_type": "display_data"
    }
   ],
   "source": [
    "# 1B\n",
    "\n",
    "p=np.linspace(-5,5,51,endpoint=True)\n",
    "n1=0\n",
    "ls=list()\n",
    "iter=[]\n",
    "for po in p:\n",
    "    n=0\n",
    "    x_n1=0;\n",
    "    x_n=po\n",
    "    for i in range (0, max_iter):\n",
    "        if (f_dash(x_n)==0):\n",
    "                  break\n",
    "        else:\n",
    "            x_n1=x_n-(f(x_n)/f_dash(x_n))\n",
    "\n",
    "        if (abs(x_n1-x_n)<=epsilon*abs(x_n1)):\n",
    "                ls.append([po,round(x_n1,8)])\n",
    "                break\n",
    "        else:\n",
    "            x_n=x_n1\n",
    "df=pd.DataFrame(ls,columns=['Starting_Point','Root_Reached'])\n",
    "\n",
    "r1_x=[];r2_x=[];r3_x=[];\n",
    "r1_y=[];r2_y=[];r3_y=[];\n",
    "for i in range (len(df)):\n",
    "    if round(df.iloc[i,1],2)==-1.73:\n",
    "        r1_x.append(df.iloc[i,0])\n",
    "        r1_y.append(0)\n",
    "    elif round(df.iloc[i,1],2)==-1.:\n",
    "        r2_x.append(df.iloc[i,0])\n",
    "        r2_y.append(0)\n",
    "    elif round(df.iloc[i,1],2)==1.73:\n",
    "        r3_x.append(df.iloc[i,0])\n",
    "        r3_y.append(0)\n",
    "        \n",
    "plt.plot(r1_x, r1_y,linestyle='',marker='o', color='green',label='sqrt(-3)')\n",
    "plt.plot(r2_x, r2_y,linestyle='',marker='^', color='blue',label='-1')\n",
    "plt.plot(r3_x, r3_y,linestyle='',marker='*', color='red',label='sqrt(3)')        \n",
    "plt.xlabel('-5 to 5 at step of 0.2')\n",
    "plt.legend()"
   ]
  }
 ],
 "metadata": {
  "kernelspec": {
   "display_name": "Python 3 (ipykernel)",
   "language": "python",
   "name": "python3"
  },
  "language_info": {
   "codemirror_mode": {
    "name": "ipython",
    "version": 3
   },
   "file_extension": ".py",
   "mimetype": "text/x-python",
   "name": "python",
   "nbconvert_exporter": "python",
   "pygments_lexer": "ipython3",
   "version": "3.9.12"
  }
 },
 "nbformat": 4,
 "nbformat_minor": 2
}
