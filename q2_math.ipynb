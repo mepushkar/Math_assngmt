{
 "cells": [
  {
   "cell_type": "code",
   "execution_count": 2,
   "id": "7f95303f",
   "metadata": {},
   "outputs": [],
   "source": [
    "import numpy as np \n",
    "import pandas as pd"
   ]
  },
  {
   "cell_type": "code",
   "execution_count": 3,
   "id": "0d0d7f3d",
   "metadata": {},
   "outputs": [],
   "source": [
    "def f(arr):\n",
    "    x1,x2,x3=arr\n",
    "    return [x1**3 - 2*x2 -2,\n",
    "            x1**3 - 5*x3**2 + 7,\n",
    "            x2*x3**2 - 1]"
   ]
  },
  {
   "cell_type": "code",
   "execution_count": 4,
   "id": "fd595843",
   "metadata": {},
   "outputs": [],
   "source": [
    "def jacobi(arr):\n",
    "    x1,x2,x3=arr\n",
    "    return [[3*x1**2, - 2, 0],\n",
    "            [3*x1**2, 0, -10*x3],\n",
    "            [0,  x3**2, 2*x2*x3]]\n"
   ]
  },
  {
   "cell_type": "code",
   "execution_count": 5,
   "id": "66261d84",
   "metadata": {},
   "outputs": [],
   "source": [
    "def newton_raphson(func,guess_vec,jac):\n",
    "    max_iter=10\n",
    "    ct=0                                                     #iteration counter\n",
    "    lst1=[]\n",
    "    f_list=[]\n",
    "    inf_norm=[]\n",
    "    epsilon=5e-12\n",
    "    x_next=guess_vec\n",
    "    for i in range (max_iter):\n",
    "        J=np.array(jac(x_next))\n",
    "        F=np.array(func(x_next))                           #calculating values of function and its jacobian\n",
    "        \n",
    "        v=np.linalg.solve(J,-F)                           #correction\n",
    "        inf_norm.append(np.linalg.norm(F,np.inf))         #infinity norm of function\n",
    "        f_list.append(np.round_(F, decimals=6))\n",
    "        x_up=np.round_(x_next, decimals = 5)\n",
    "        lst1.append(x_up.tolist())\n",
    "        \n",
    "        if np.linalg.norm(v,np.inf)<epsilon:             #for tolerance checking infinity norm of correction\n",
    "            print(\"YAY converged on iteration no.\",ct)\n",
    "            break\n",
    "        x_next=x_next+v\n",
    "        ct+=1\n",
    "        \n",
    "    return inf_norm,lst1,f_list                #returning vectors contaning infinity norm of f_vec, x, and f_vals"
   ]
  },
  {
   "cell_type": "code",
   "execution_count": 6,
   "id": "70f8b04e",
   "metadata": {},
   "outputs": [
    {
     "name": "stdout",
     "output_type": "stream",
     "text": [
      "YAY converged on iteration no. 5\n"
     ]
    },
    {
     "data": {
      "text/html": [
       "<div>\n",
       "<style scoped>\n",
       "    .dataframe tbody tr th:only-of-type {\n",
       "        vertical-align: middle;\n",
       "    }\n",
       "\n",
       "    .dataframe tbody tr th {\n",
       "        vertical-align: top;\n",
       "    }\n",
       "\n",
       "    .dataframe thead th {\n",
       "        text-align: right;\n",
       "    }\n",
       "</style>\n",
       "<table border=\"1\" class=\"dataframe\">\n",
       "  <thead>\n",
       "    <tr style=\"text-align: right;\">\n",
       "      <th></th>\n",
       "      <th>Infinity_norm</th>\n",
       "      <th>f</th>\n",
       "      <th>vector_x</th>\n",
       "    </tr>\n",
       "  </thead>\n",
       "  <tbody>\n",
       "    <tr>\n",
       "      <th>0</th>\n",
       "      <td>3.000000e+00</td>\n",
       "      <td>[-3.0, 3.0, 0.0]</td>\n",
       "      <td>[1.0, 1.0, 1.0]</td>\n",
       "    </tr>\n",
       "    <tr>\n",
       "      <th>1</th>\n",
       "      <td>7.084548e-01</td>\n",
       "      <td>[0.629738, -0.28863, -0.708455]</td>\n",
       "      <td>[1.42857, 0.14286, 1.42857]</td>\n",
       "    </tr>\n",
       "    <tr>\n",
       "      <th>2</th>\n",
       "      <td>1.515217e-02</td>\n",
       "      <td>[0.000572, -0.000592, -0.015152]</td>\n",
       "      <td>[1.44011, 0.49305, 1.41331]</td>\n",
       "    </tr>\n",
       "    <tr>\n",
       "      <th>3</th>\n",
       "      <td>1.987236e-05</td>\n",
       "      <td>[2e-05, 1.6e-05, 1.8e-05]</td>\n",
       "      <td>[1.44226, 0.50001, 1.41421]</td>\n",
       "    </tr>\n",
       "    <tr>\n",
       "      <th>4</th>\n",
       "      <td>1.439719e-10</td>\n",
       "      <td>[0.0, 0.0, 0.0]</td>\n",
       "      <td>[1.44225, 0.5, 1.41421]</td>\n",
       "    </tr>\n",
       "    <tr>\n",
       "      <th>5</th>\n",
       "      <td>1.776357e-15</td>\n",
       "      <td>[-0.0, 0.0, -0.0]</td>\n",
       "      <td>[1.44225, 0.5, 1.41421]</td>\n",
       "    </tr>\n",
       "  </tbody>\n",
       "</table>\n",
       "</div>"
      ],
      "text/plain": [
       "   Infinity_norm                                 f  \\\n",
       "0   3.000000e+00                  [-3.0, 3.0, 0.0]   \n",
       "1   7.084548e-01   [0.629738, -0.28863, -0.708455]   \n",
       "2   1.515217e-02  [0.000572, -0.000592, -0.015152]   \n",
       "3   1.987236e-05         [2e-05, 1.6e-05, 1.8e-05]   \n",
       "4   1.439719e-10                   [0.0, 0.0, 0.0]   \n",
       "5   1.776357e-15                 [-0.0, 0.0, -0.0]   \n",
       "\n",
       "                      vector_x  \n",
       "0              [1.0, 1.0, 1.0]  \n",
       "1  [1.42857, 0.14286, 1.42857]  \n",
       "2  [1.44011, 0.49305, 1.41331]  \n",
       "3  [1.44226, 0.50001, 1.41421]  \n",
       "4      [1.44225, 0.5, 1.41421]  \n",
       "5      [1.44225, 0.5, 1.41421]  "
      ]
     },
     "execution_count": 6,
     "metadata": {},
     "output_type": "execute_result"
    }
   ],
   "source": [
    "inf_norm,lst,f_val=newton_raphson(f,np.array([1.0,1.0,1.0]),jacobi)\n",
    "dic={'Infinity_norm':inf_norm,'f':f_val,'vector_x':lst}\n",
    "df1=pd.DataFrame(dic)                         #dataframe containing the required data\n",
    "# df1.to_csv('nonlinear_NR.csv')\n",
    "df1"
   ]
  }
 ],
 "metadata": {
  "kernelspec": {
   "display_name": "Python 3 (ipykernel)",
   "language": "python",
   "name": "python3"
  },
  "language_info": {
   "codemirror_mode": {
    "name": "ipython",
    "version": 3
   },
   "file_extension": ".py",
   "mimetype": "text/x-python",
   "name": "python",
   "nbconvert_exporter": "python",
   "pygments_lexer": "ipython3",
   "version": "3.9.12"
  }
 },
 "nbformat": 4,
 "nbformat_minor": 5
}
